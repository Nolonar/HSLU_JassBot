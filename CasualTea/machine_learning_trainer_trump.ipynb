{
 "metadata": {
  "language_info": {
   "codemirror_mode": {
    "name": "ipython",
    "version": 3
   },
   "file_extension": ".py",
   "mimetype": "text/x-python",
   "name": "python",
   "nbconvert_exporter": "python",
   "pygments_lexer": "ipython3",
   "version": "3.8.1-final"
  },
  "orig_nbformat": 2,
  "kernelspec": {
   "name": "python3",
   "display_name": "Python 3"
  }
 },
 "nbformat": 4,
 "nbformat_minor": 2,
 "cells": [
  {
   "cell_type": "code",
   "execution_count": 1,
   "metadata": {},
   "outputs": [],
   "source": [
    "%matplotlib inline\n",
    "\n",
    "import math\n",
    "import numpy as np\n",
    "import pandas as pd\n",
    "import matplotlib.pyplot as plt\n",
    "\n",
    "from functools import reduce\n",
    "from pathlib import Path\n",
    "from sklearn.model_selection import cross_val_score\n",
    "from sklearn.model_selection import train_test_split"
   ]
  },
  {
   "cell_type": "code",
   "execution_count": 2,
   "metadata": {},
   "outputs": [
    {
     "output_type": "execute_result",
     "data": {
      "text/plain": [
       "   0   1   2   3   4   5   6   7   8   9   ...  29  30  31  32  33  34  35  \\\n",
       "0   0   0   0   1   1   0   1   1   0   0  ...   1   0   0   0   1   0   0   \n",
       "1   0   0   0   0   0   0   0   0   1   1  ...   0   1   0   0   0   1   0   \n",
       "2   1   0   0   1   0   0   0   0   0   0  ...   1   0   0   0   0   1   1   \n",
       "3   0   0   0   0   0   0   0   0   0   1  ...   0   0   1   1   0   0   0   \n",
       "4   0   1   0   0   0   0   0   0   1   1  ...   0   1   0   0   0   0   0   \n",
       "\n",
       "   36     37  38  \n",
       "0   0  53248   6  \n",
       "1   0   4613   5  \n",
       "2   0  68780   6  \n",
       "3   0  24555   5  \n",
       "4   1   8392   4  \n",
       "\n",
       "[5 rows x 39 columns]"
      ],
      "text/html": "<div>\n<style scoped>\n    .dataframe tbody tr th:only-of-type {\n        vertical-align: middle;\n    }\n\n    .dataframe tbody tr th {\n        vertical-align: top;\n    }\n\n    .dataframe thead th {\n        text-align: right;\n    }\n</style>\n<table border=\"1\" class=\"dataframe\">\n  <thead>\n    <tr style=\"text-align: right;\">\n      <th></th>\n      <th>0</th>\n      <th>1</th>\n      <th>2</th>\n      <th>3</th>\n      <th>4</th>\n      <th>5</th>\n      <th>6</th>\n      <th>7</th>\n      <th>8</th>\n      <th>9</th>\n      <th>...</th>\n      <th>29</th>\n      <th>30</th>\n      <th>31</th>\n      <th>32</th>\n      <th>33</th>\n      <th>34</th>\n      <th>35</th>\n      <th>36</th>\n      <th>37</th>\n      <th>38</th>\n    </tr>\n  </thead>\n  <tbody>\n    <tr>\n      <th>0</th>\n      <td>0</td>\n      <td>0</td>\n      <td>0</td>\n      <td>1</td>\n      <td>1</td>\n      <td>0</td>\n      <td>1</td>\n      <td>1</td>\n      <td>0</td>\n      <td>0</td>\n      <td>...</td>\n      <td>1</td>\n      <td>0</td>\n      <td>0</td>\n      <td>0</td>\n      <td>1</td>\n      <td>0</td>\n      <td>0</td>\n      <td>0</td>\n      <td>53248</td>\n      <td>6</td>\n    </tr>\n    <tr>\n      <th>1</th>\n      <td>0</td>\n      <td>0</td>\n      <td>0</td>\n      <td>0</td>\n      <td>0</td>\n      <td>0</td>\n      <td>0</td>\n      <td>0</td>\n      <td>1</td>\n      <td>1</td>\n      <td>...</td>\n      <td>0</td>\n      <td>1</td>\n      <td>0</td>\n      <td>0</td>\n      <td>0</td>\n      <td>1</td>\n      <td>0</td>\n      <td>0</td>\n      <td>4613</td>\n      <td>5</td>\n    </tr>\n    <tr>\n      <th>2</th>\n      <td>1</td>\n      <td>0</td>\n      <td>0</td>\n      <td>1</td>\n      <td>0</td>\n      <td>0</td>\n      <td>0</td>\n      <td>0</td>\n      <td>0</td>\n      <td>0</td>\n      <td>...</td>\n      <td>1</td>\n      <td>0</td>\n      <td>0</td>\n      <td>0</td>\n      <td>0</td>\n      <td>1</td>\n      <td>1</td>\n      <td>0</td>\n      <td>68780</td>\n      <td>6</td>\n    </tr>\n    <tr>\n      <th>3</th>\n      <td>0</td>\n      <td>0</td>\n      <td>0</td>\n      <td>0</td>\n      <td>0</td>\n      <td>0</td>\n      <td>0</td>\n      <td>0</td>\n      <td>0</td>\n      <td>1</td>\n      <td>...</td>\n      <td>0</td>\n      <td>0</td>\n      <td>1</td>\n      <td>1</td>\n      <td>0</td>\n      <td>0</td>\n      <td>0</td>\n      <td>0</td>\n      <td>24555</td>\n      <td>5</td>\n    </tr>\n    <tr>\n      <th>4</th>\n      <td>0</td>\n      <td>1</td>\n      <td>0</td>\n      <td>0</td>\n      <td>0</td>\n      <td>0</td>\n      <td>0</td>\n      <td>0</td>\n      <td>1</td>\n      <td>1</td>\n      <td>...</td>\n      <td>0</td>\n      <td>1</td>\n      <td>0</td>\n      <td>0</td>\n      <td>0</td>\n      <td>0</td>\n      <td>0</td>\n      <td>1</td>\n      <td>8392</td>\n      <td>4</td>\n    </tr>\n  </tbody>\n</table>\n<p>5 rows × 39 columns</p>\n</div>"
     },
     "metadata": {},
     "execution_count": 2
    }
   ],
   "source": [
    "data = pd.read_csv(Path(\"training_data_ml\") / '2018_10_18_trump.csv', header=None)\n",
    "\n",
    "data.head()"
   ]
  },
  {
   "cell_type": "code",
   "execution_count": 3,
   "metadata": {},
   "outputs": [
    {
     "output_type": "execute_result",
     "data": {
      "text/plain": [
       "   DA  DK  DQ  DJ  D10  D9  D8  D7  D6  HA  ...  CK  CQ  CJ  C10  C9  C8  C7  \\\n",
       "0   0   0   0   1    1   0   1   1   0   0  ...   0   1   0    0   0   1   0   \n",
       "1   0   0   0   0    0   0   0   0   1   1  ...   0   0   1    0   0   0   1   \n",
       "2   1   0   0   1    0   0   0   0   0   0  ...   0   1   0    0   0   0   1   \n",
       "3   0   0   0   0    0   0   0   0   0   1  ...   0   0   0    1   1   0   0   \n",
       "4   0   1   0   0    0   0   0   0   1   1  ...   0   0   1    0   0   0   0   \n",
       "\n",
       "   C6  FH  trump  \n",
       "0   0   0      6  \n",
       "1   0   0      5  \n",
       "2   1   0      6  \n",
       "3   0   0      5  \n",
       "4   0   1      4  \n",
       "\n",
       "[5 rows x 38 columns]"
      ],
      "text/html": "<div>\n<style scoped>\n    .dataframe tbody tr th:only-of-type {\n        vertical-align: middle;\n    }\n\n    .dataframe tbody tr th {\n        vertical-align: top;\n    }\n\n    .dataframe thead th {\n        text-align: right;\n    }\n</style>\n<table border=\"1\" class=\"dataframe\">\n  <thead>\n    <tr style=\"text-align: right;\">\n      <th></th>\n      <th>DA</th>\n      <th>DK</th>\n      <th>DQ</th>\n      <th>DJ</th>\n      <th>D10</th>\n      <th>D9</th>\n      <th>D8</th>\n      <th>D7</th>\n      <th>D6</th>\n      <th>HA</th>\n      <th>...</th>\n      <th>CK</th>\n      <th>CQ</th>\n      <th>CJ</th>\n      <th>C10</th>\n      <th>C9</th>\n      <th>C8</th>\n      <th>C7</th>\n      <th>C6</th>\n      <th>FH</th>\n      <th>trump</th>\n    </tr>\n  </thead>\n  <tbody>\n    <tr>\n      <th>0</th>\n      <td>0</td>\n      <td>0</td>\n      <td>0</td>\n      <td>1</td>\n      <td>1</td>\n      <td>0</td>\n      <td>1</td>\n      <td>1</td>\n      <td>0</td>\n      <td>0</td>\n      <td>...</td>\n      <td>0</td>\n      <td>1</td>\n      <td>0</td>\n      <td>0</td>\n      <td>0</td>\n      <td>1</td>\n      <td>0</td>\n      <td>0</td>\n      <td>0</td>\n      <td>6</td>\n    </tr>\n    <tr>\n      <th>1</th>\n      <td>0</td>\n      <td>0</td>\n      <td>0</td>\n      <td>0</td>\n      <td>0</td>\n      <td>0</td>\n      <td>0</td>\n      <td>0</td>\n      <td>1</td>\n      <td>1</td>\n      <td>...</td>\n      <td>0</td>\n      <td>0</td>\n      <td>1</td>\n      <td>0</td>\n      <td>0</td>\n      <td>0</td>\n      <td>1</td>\n      <td>0</td>\n      <td>0</td>\n      <td>5</td>\n    </tr>\n    <tr>\n      <th>2</th>\n      <td>1</td>\n      <td>0</td>\n      <td>0</td>\n      <td>1</td>\n      <td>0</td>\n      <td>0</td>\n      <td>0</td>\n      <td>0</td>\n      <td>0</td>\n      <td>0</td>\n      <td>...</td>\n      <td>0</td>\n      <td>1</td>\n      <td>0</td>\n      <td>0</td>\n      <td>0</td>\n      <td>0</td>\n      <td>1</td>\n      <td>1</td>\n      <td>0</td>\n      <td>6</td>\n    </tr>\n    <tr>\n      <th>3</th>\n      <td>0</td>\n      <td>0</td>\n      <td>0</td>\n      <td>0</td>\n      <td>0</td>\n      <td>0</td>\n      <td>0</td>\n      <td>0</td>\n      <td>0</td>\n      <td>1</td>\n      <td>...</td>\n      <td>0</td>\n      <td>0</td>\n      <td>0</td>\n      <td>1</td>\n      <td>1</td>\n      <td>0</td>\n      <td>0</td>\n      <td>0</td>\n      <td>0</td>\n      <td>5</td>\n    </tr>\n    <tr>\n      <th>4</th>\n      <td>0</td>\n      <td>1</td>\n      <td>0</td>\n      <td>0</td>\n      <td>0</td>\n      <td>0</td>\n      <td>0</td>\n      <td>0</td>\n      <td>1</td>\n      <td>1</td>\n      <td>...</td>\n      <td>0</td>\n      <td>0</td>\n      <td>1</td>\n      <td>0</td>\n      <td>0</td>\n      <td>0</td>\n      <td>0</td>\n      <td>0</td>\n      <td>1</td>\n      <td>4</td>\n    </tr>\n  </tbody>\n</table>\n<p>5 rows × 38 columns</p>\n</div>"
     },
     "metadata": {},
     "execution_count": 3
    }
   ],
   "source": [
    "cards = [\n",
    "# Diamonds\n",
    "'DA','DK','DQ','DJ','D10','D9','D8','D7','D6',\n",
    "# Hearts\n",
    "'HA','HK','HQ','HJ','H10','H9','H8','H7','H6',\n",
    "# Spades\n",
    "'SA','SK','SQ','SJ','S10','S9','S8','S7','S6',\n",
    "# Clubs\n",
    "'CA','CK','CQ','CJ','C10','C9','C8','C7','C6'\n",
    "]\n",
    "\n",
    "# Forehand (yes = 1, no = 0)\n",
    "forehand = ['FH']\n",
    "\n",
    "user  = ['user']\n",
    "trump = ['trump']\n",
    "\n",
    "feature_columns = cards + forehand\n",
    "\n",
    "data.columns = feature_columns + user + trump\n",
    "data.drop('user', axis='columns', inplace=True)\n",
    "\n",
    "data.head()"
   ]
  },
  {
   "cell_type": "code",
   "execution_count": 4,
   "metadata": {},
   "outputs": [
    {
     "output_type": "execute_result",
     "data": {
      "text/plain": [
       "      DA     DK     DQ     DJ    D10     D9     D8     D7     D6     HA  ...  \\\n",
       "0  False  False  False   True   True  False   True   True  False  False  ...   \n",
       "1  False  False  False  False  False  False  False  False   True   True  ...   \n",
       "2   True  False  False   True  False  False  False  False  False  False  ...   \n",
       "3  False  False  False  False  False  False  False  False  False   True  ...   \n",
       "4  False   True  False  False  False  False  False  False   True   True  ...   \n",
       "\n",
       "      CK     CQ     CJ    C10     C9     C8     C7     C6     FH    trump  \n",
       "0  False   True  False  False  False   True  False  False  False     PUSH  \n",
       "1  False  False   True  False  False  False   True  False  False  UNE_UFE  \n",
       "2  False   True  False  False  False  False   True   True  False     PUSH  \n",
       "3  False  False  False   True   True  False  False  False  False  UNE_UFE  \n",
       "4  False  False   True  False  False  False  False  False   True  OBE_ABE  \n",
       "\n",
       "[5 rows x 38 columns]"
      ],
      "text/html": "<div>\n<style scoped>\n    .dataframe tbody tr th:only-of-type {\n        vertical-align: middle;\n    }\n\n    .dataframe tbody tr th {\n        vertical-align: top;\n    }\n\n    .dataframe thead th {\n        text-align: right;\n    }\n</style>\n<table border=\"1\" class=\"dataframe\">\n  <thead>\n    <tr style=\"text-align: right;\">\n      <th></th>\n      <th>DA</th>\n      <th>DK</th>\n      <th>DQ</th>\n      <th>DJ</th>\n      <th>D10</th>\n      <th>D9</th>\n      <th>D8</th>\n      <th>D7</th>\n      <th>D6</th>\n      <th>HA</th>\n      <th>...</th>\n      <th>CK</th>\n      <th>CQ</th>\n      <th>CJ</th>\n      <th>C10</th>\n      <th>C9</th>\n      <th>C8</th>\n      <th>C7</th>\n      <th>C6</th>\n      <th>FH</th>\n      <th>trump</th>\n    </tr>\n  </thead>\n  <tbody>\n    <tr>\n      <th>0</th>\n      <td>False</td>\n      <td>False</td>\n      <td>False</td>\n      <td>True</td>\n      <td>True</td>\n      <td>False</td>\n      <td>True</td>\n      <td>True</td>\n      <td>False</td>\n      <td>False</td>\n      <td>...</td>\n      <td>False</td>\n      <td>True</td>\n      <td>False</td>\n      <td>False</td>\n      <td>False</td>\n      <td>True</td>\n      <td>False</td>\n      <td>False</td>\n      <td>False</td>\n      <td>PUSH</td>\n    </tr>\n    <tr>\n      <th>1</th>\n      <td>False</td>\n      <td>False</td>\n      <td>False</td>\n      <td>False</td>\n      <td>False</td>\n      <td>False</td>\n      <td>False</td>\n      <td>False</td>\n      <td>True</td>\n      <td>True</td>\n      <td>...</td>\n      <td>False</td>\n      <td>False</td>\n      <td>True</td>\n      <td>False</td>\n      <td>False</td>\n      <td>False</td>\n      <td>True</td>\n      <td>False</td>\n      <td>False</td>\n      <td>UNE_UFE</td>\n    </tr>\n    <tr>\n      <th>2</th>\n      <td>True</td>\n      <td>False</td>\n      <td>False</td>\n      <td>True</td>\n      <td>False</td>\n      <td>False</td>\n      <td>False</td>\n      <td>False</td>\n      <td>False</td>\n      <td>False</td>\n      <td>...</td>\n      <td>False</td>\n      <td>True</td>\n      <td>False</td>\n      <td>False</td>\n      <td>False</td>\n      <td>False</td>\n      <td>True</td>\n      <td>True</td>\n      <td>False</td>\n      <td>PUSH</td>\n    </tr>\n    <tr>\n      <th>3</th>\n      <td>False</td>\n      <td>False</td>\n      <td>False</td>\n      <td>False</td>\n      <td>False</td>\n      <td>False</td>\n      <td>False</td>\n      <td>False</td>\n      <td>False</td>\n      <td>True</td>\n      <td>...</td>\n      <td>False</td>\n      <td>False</td>\n      <td>False</td>\n      <td>True</td>\n      <td>True</td>\n      <td>False</td>\n      <td>False</td>\n      <td>False</td>\n      <td>False</td>\n      <td>UNE_UFE</td>\n    </tr>\n    <tr>\n      <th>4</th>\n      <td>False</td>\n      <td>True</td>\n      <td>False</td>\n      <td>False</td>\n      <td>False</td>\n      <td>False</td>\n      <td>False</td>\n      <td>False</td>\n      <td>True</td>\n      <td>True</td>\n      <td>...</td>\n      <td>False</td>\n      <td>False</td>\n      <td>True</td>\n      <td>False</td>\n      <td>False</td>\n      <td>False</td>\n      <td>False</td>\n      <td>False</td>\n      <td>True</td>\n      <td>OBE_ABE</td>\n    </tr>\n  </tbody>\n</table>\n<p>5 rows × 38 columns</p>\n</div>"
     },
     "metadata": {},
     "execution_count": 4
    }
   ],
   "source": [
    "data[cards + forehand] = data[cards + forehand].astype(bool)\n",
    "data.trump = data.trump.astype('category')\n",
    "data.trump.cat.rename_categories({0: 'DIAMONDS', 1: 'HEARTS', 2: 'SPADES', 3:'CLUBS',\n",
    "                                  4: 'OBE_ABE', 5: 'UNE_UFE', 6: 'PUSH', 10: 'PUSH'}, inplace=True)\n",
    "data.head()"
   ]
  },
  {
   "cell_type": "code",
   "execution_count": 5,
   "metadata": {},
   "outputs": [],
   "source": [
    "X_train, X_test, y_train, y_test = train_test_split(data[feature_columns], data.trump, test_size=0.2, stratify=data.trump, random_state=42)"
   ]
  },
  {
   "cell_type": "code",
   "execution_count": 6,
   "metadata": {},
   "outputs": [
    {
     "output_type": "stream",
     "name": "stdout",
     "text": [
      "           DA     DK     DQ     DJ    D10     D9     D8     D7     D6     HA  \\\n207217  False  False  False  False   True  False  False  False   True   True   \n18232   False  False  False  False  False  False   True   True  False  False   \n226960  False   True  False  False  False  False  False  False  False  False   \n128112  False   True  False  False  False  False  False  False  False  False   \n126859   True  False  False   True  False  False   True  False  False  False   \n\n        ...     CA     CK     CQ     CJ    C10     C9     C8     C7     C6  \\\n207217  ...  False  False  False  False  False  False  False  False   True   \n18232   ...  False   True  False   True  False  False  False   True  False   \n226960  ...   True  False  False  False  False  False  False  False  False   \n128112  ...  False   True   True  False  False  False   True  False  False   \n126859  ...  False  False   True  False  False  False  False  False  False   \n\n           FH  \n207217  False  \n18232   False  \n226960  False  \n128112  False  \n126859  False  \n\n[5 rows x 37 columns]\n           DA     DK     DQ     DJ    D10     D9     D8     D7     D6     HA  \\\n207217  False  False  False  False   True  False  False  False   True   True   \n18232   False  False  False  False  False  False   True   True  False  False   \n226960  False   True  False  False  False  False  False  False  False  False   \n128112  False   True  False  False  False  False  False  False  False  False   \n126859   True  False  False   True  False  False   True  False  False  False   \n\n        ...     C6     FH   D_J9   H_J9   S_J9   C_J9  D_AKQ  H_AKQ  S_AKQ  \\\n207217  ...   True  False  False   True  False  False  False  False  False   \n18232   ...  False  False  False  False  False  False  False  False  False   \n226960  ...  False  False  False  False  False  False  False  False  False   \n128112  ...  False  False  False   True  False  False  False  False  False   \n126859  ...  False  False  False  False  False  False  False  False  False   \n\n        C_AKQ  \n207217  False  \n18232   False  \n226960  False  \n128112  False  \n126859  False  \n\n[5 rows x 45 columns]\n"
     ]
    }
   ],
   "source": [
    "def add_interaction(data, feature_cols, interaction):\n",
    "    for color in \"DHSC\":\n",
    "        new_col = f\"{color}_{interaction}\"\n",
    "        data[new_col] = reduce(lambda a, b: a & b, [data[f\"{color}{feature}\"] for feature in interaction])\n",
    "        feature_cols.append(new_col)\n",
    "\n",
    "X_train_interactions = X_train.copy()\n",
    "X_test_interactions = X_test.copy()\n",
    "feature_columns_interactions = list(feature_columns)\n",
    "\n",
    "for dataframe in [X_train_interactions, X_test_interactions]:\n",
    "    add_interaction(dataframe, feature_columns_interactions, \"J9\")\n",
    "    add_interaction(dataframe, feature_columns_interactions, \"AKQ\")\n",
    "\n",
    "print(X_train.head())\n",
    "print(X_train_interactions.head())"
   ]
  },
  {
   "cell_type": "code",
   "execution_count": 7,
   "metadata": {},
   "outputs": [
    {
     "output_type": "stream",
     "name": "stdout",
     "text": [
      "Grid search for Logistic Regression\n",
      "Best accuracy score found: 0.643\n",
      "\n",
      "Grid search for Stochastic Gradient Descent\n",
      "Best accuracy score found: 0.624\n",
      "\n",
      "Grid search for Random Forest\n",
      "Best accuracy score found: 0.640\n",
      "\n",
      "Grid search for K Neighbors\n",
      "Best accuracy score found: 0.580\n",
      "\n",
      "Grid search for Gradient Boosting\n",
      "Best accuracy score found: 0.659\n",
      "\n"
     ]
    },
    {
     "output_type": "execute_result",
     "data": {
      "text/plain": [
       "[['Logistic Regression',\n",
       "  0.643159869380949,\n",
       "  LogisticRegression(C=0.5, class_weight=None, dual=False, fit_intercept=True,\n",
       "                     intercept_scaling=1, l1_ratio=None, max_iter=100,\n",
       "                     multi_class='auto', n_jobs=None, penalty='l2',\n",
       "                     random_state=None, solver='lbfgs', tol=0.0001, verbose=0,\n",
       "                     warm_start=False)],\n",
       " ['Stochastic Gradient Descent',\n",
       "  0.6235461682762454,\n",
       "  SGDClassifier(alpha=5e-05, average=False, class_weight=None,\n",
       "                early_stopping=False, epsilon=0.1, eta0=0.0, fit_intercept=True,\n",
       "                l1_ratio=0.15, learning_rate='optimal', loss='hinge',\n",
       "                max_iter=1000, n_iter_no_change=5, n_jobs=None, penalty='l2',\n",
       "                power_t=0.5, random_state=None, shuffle=True, tol=0.001,\n",
       "                validation_fraction=0.1, verbose=0, warm_start=False)],\n",
       " ['Random Forest',\n",
       "  0.6400541930104913,\n",
       "  RandomForestClassifier(bootstrap=True, ccp_alpha=0.0, class_weight=None,\n",
       "                         criterion='gini', max_depth=None, max_features='auto',\n",
       "                         max_leaf_nodes=None, max_samples=None,\n",
       "                         min_impurity_decrease=0.0, min_impurity_split=None,\n",
       "                         min_samples_leaf=1, min_samples_split=2,\n",
       "                         min_weight_fraction_leaf=0.0, n_estimators=120,\n",
       "                         n_jobs=None, oob_score=False, random_state=None,\n",
       "                         verbose=0, warm_start=False)],\n",
       " ['K Neighbors',\n",
       "  0.5801882859723477,\n",
       "  KNeighborsClassifier(algorithm='auto', leaf_size=30, metric='minkowski',\n",
       "                       metric_params=None, n_jobs=None, n_neighbors=10, p=2,\n",
       "                       weights='uniform')],\n",
       " ['Gradient Boosting',\n",
       "  0.6591120683665672,\n",
       "  GradientBoostingClassifier(ccp_alpha=0.0, criterion='friedman_mse', init=None,\n",
       "                             learning_rate=0.1, loss='deviance', max_depth=3,\n",
       "                             max_features=None, max_leaf_nodes=None,\n",
       "                             min_impurity_decrease=0.0, min_impurity_split=None,\n",
       "                             min_samples_leaf=1, min_samples_split=2,\n",
       "                             min_weight_fraction_leaf=0.0, n_estimators=200,\n",
       "                             n_iter_no_change=None, presort='deprecated',\n",
       "                             random_state=None, subsample=1.0, tol=0.0001,\n",
       "                             validation_fraction=0.1, verbose=0,\n",
       "                             warm_start=False)]]"
      ]
     },
     "metadata": {},
     "execution_count": 7
    }
   ],
   "source": [
    "from sklearn.linear_model import LogisticRegression\n",
    "from sklearn.linear_model import SGDClassifier\n",
    "from sklearn.ensemble import RandomForestClassifier\n",
    "from sklearn.svm import SVC\n",
    "from sklearn.neighbors import KNeighborsClassifier\n",
    "from sklearn.ensemble import GradientBoostingClassifier\n",
    "from sklearn.model_selection import GridSearchCV\n",
    "\n",
    "classifier_logisticRegression = LogisticRegression()\n",
    "classifier_sgd = SGDClassifier()\n",
    "classifier_randomForest = RandomForestClassifier()\n",
    "# classifier_svc = SVC()\n",
    "classifier_kNeighbors = KNeighborsClassifier()\n",
    "classifier_gradientBoosting = GradientBoostingClassifier()\n",
    "\n",
    "linear_classifiers = [classifier_logisticRegression, classifier_sgd]\n",
    "nonlinear_classifiers = [\n",
    "    classifier_randomForest,\n",
    "    # classifier_svc,\n",
    "    classifier_kNeighbors,\n",
    "    classifier_gradientBoosting\n",
    "]\n",
    "\n",
    "names = [\n",
    "    \"Logistic Regression\",\n",
    "    \"Stochastic Gradient Descent\",\n",
    "    \"Random Forest\",\n",
    "    # \"Support Vector Classification\",\n",
    "    \"K Neighbors\",\n",
    "    \"Gradient Boosting\"\n",
    "]\n",
    "classifiers = linear_classifiers + nonlinear_classifiers\n",
    "parameters = [\n",
    "    { # Logistic Regression\n",
    "        # \"penalty\": [\"l1\", \"l2\", \"elasticnet\", \"none\"],\n",
    "        \"C\": [i / 10 for i in range(5, 21)],\n",
    "        # \"fit_intercept\": [True, False],\n",
    "        # \"solver\": [\"newton-cg\", \"lbfgs\", \"liblinear\", \"sag\", \"saga\"]\n",
    "    },\n",
    "    { # SGD\n",
    "        # \"loss\": [\"hinge\", \"log\", \"modified_huber\", \"squared_hinge\", \"perceptron\", \"squared_loss\", \"huber\", \"epsilon_insensitive\", \"squared_epsilon_insensitive\"],\n",
    "        # \"penalty\": [\"l1\", \"l2\", \"elasticnet\"],\n",
    "        \"alpha\": [i / 100000 for i in range(5, 21)],\n",
    "        # \"fit_intercept\": [True, False],\n",
    "        # \"learning_rate\": [\"constant\", \"optimal\", \"invscaling\", \"adaptive\"]\n",
    "    },\n",
    "    { # Random Forest\n",
    "        \"n_estimators\": [i * 10 for i in range(8, 13)],\n",
    "        # \"criterion\": [\"gini\", \"entropy\"],\n",
    "        # \"max_depth\": [i for i in range(2, 6)] + [None],\n",
    "        # \"min_samples_split\": [i for i in range(1, 4)],\n",
    "        # \"min_samples_leaf\": [i for i in range(1, 3)],\n",
    "        # \"max_features\": [\"sqrt\", \"log2\", None]\n",
    "    },\n",
    "    # { # SVC\n",
    "    # },\n",
    "    { # K Means\n",
    "        \"n_neighbors\": [i for i in range(2, 11)],\n",
    "        # \"weights\": [\"uniform\", \"distance\"]\n",
    "    },\n",
    "    { # Gradient Boosting\n",
    "        # \"loss\": [\"deviance\", \"exponential\"],\n",
    "        # \"learning_rate\": [i / 10 for i in range(1, 6)],\n",
    "        \"n_estimators\": [i * 100 for i in range(1, 4)],\n",
    "        # \"min_samples_split\": [i for i in range(1, 4)],\n",
    "        # \"min_samples_leaf\": [i for i in range(1, 3)],\n",
    "        # \"max_depth\": [i for i in range(2, 6)],\n",
    "        # \"max_features\": [\"sqrt\", \"log2\", None]\n",
    "    }\n",
    "]\n",
    "\n",
    "results = []\n",
    "for name, classifier, params in zip(names, classifiers, parameters):\n",
    "    print(f\"Grid search for {name}\")\n",
    "    gs = GridSearchCV(classifier, param_grid=params, cv=5, scoring=\"accuracy\", n_jobs=-1)\n",
    "    gs.fit(X_train_interactions if classifier in linear_classifiers else X_train, y_train)\n",
    "    print(f\"Best accuracy score found: {gs.best_score_:.3f}\\n\".format(gs.best_score_))\n",
    "    results.append([name, gs.best_score_, gs.best_estimator_])\n",
    "\n",
    "results"
   ]
  },
  {
   "cell_type": "code",
   "execution_count": 8,
   "metadata": {},
   "outputs": [
    {
     "output_type": "stream",
     "name": "stdout",
     "text": [
      "Getting score for Logistic Regression:\n",
      "0.6402278885569374\n",
      "Getting score for Stochastic Gradient Descent:\n",
      "0.6250121586882512\n",
      "Getting score for Random Forest:\n",
      "0.6380045855624262\n",
      "Getting score for K Neighbors:\n",
      "0.5820746196067533\n",
      "Getting score for Gradient Boosting:\n",
      "0.6563329396234281\n"
     ]
    }
   ],
   "source": [
    "from sklearn.linear_model import LogisticRegression\n",
    "from sklearn.linear_model import SGDClassifier\n",
    "from sklearn.ensemble import RandomForestClassifier\n",
    "from sklearn.svm import SVC\n",
    "from sklearn.neighbors import KNeighborsClassifier\n",
    "from sklearn.ensemble import GradientBoostingClassifier\n",
    "\n",
    "names = [\n",
    "    \"Logistic Regression\",\n",
    "    \"Stochastic Gradient Descent\",\n",
    "    \"Random Forest\",\n",
    "    # \"Support Vector Classification\",\n",
    "    \"K Neighbors\",\n",
    "    \"Gradient Boosting\"\n",
    "]\n",
    "\n",
    "# Based on GridSearch results\n",
    "classifier_logisticRegression = LogisticRegression(C=0.5)\n",
    "classifier_sgd = SGDClassifier(alpha=5e-05)\n",
    "classifier_randomForest = RandomForestClassifier(n_estimators=120)\n",
    "# classifier_svc = SVC()\n",
    "classifier_kNeighbors = KNeighborsClassifier(n_neighbors=10)\n",
    "classifier_gradientBoosting = GradientBoostingClassifier(n_estimators=200)\n",
    "\n",
    "linear_classifiers = [classifier_logisticRegression, classifier_sgd]\n",
    "nonlinear_classifiers = [\n",
    "    classifier_randomForest,\n",
    "    # classifier_svc,\n",
    "    classifier_kNeighbors,\n",
    "    classifier_gradientBoosting\n",
    "]\n",
    "classifiers = linear_classifiers + nonlinear_classifiers\n",
    "\n",
    "for name, classifier in zip(names, classifiers):\n",
    "    print(f\"Getting score for {name}:\")\n",
    "    classifier.fit(X_train_interactions if classifier in linear_classifiers else X_train, y_train)\n",
    "    print(classifier.score(X_test_interactions if classifier in linear_classifiers else X_test, y_test))"
   ]
  },
  {
   "cell_type": "code",
   "execution_count": 9,
   "metadata": {},
   "outputs": [],
   "source": [
    "import pickle\n",
    "\n",
    "# Gradient Boosting chosen, because it has the highest score on unseen data.\n",
    "with open(Path(\"trained_model\") / \"gradient_boosting.pkl\", \"wb\") as file:\n",
    "    pickle.dump(classifier_gradientBoosting, file)"
   ]
  },
  {
   "cell_type": "code",
   "execution_count": 10,
   "metadata": {},
   "outputs": [
    {
     "output_type": "execute_result",
     "data": {
      "text/plain": [
       "0.6563329396234281"
      ]
     },
     "metadata": {},
     "execution_count": 10
    }
   ],
   "source": [
    "# check if save & load works\n",
    "with open(Path(\"trained_model\") / \"gradient_boosting.pkl\", \"rb\") as file:\n",
    "    model = pickle.load(file)\n",
    "\n",
    "model.score(X_test, y_test) # this must return the same score as above"
   ]
  },
  {
   "cell_type": "code",
   "execution_count": 12,
   "metadata": {},
   "outputs": [
    {
     "output_type": "stream",
     "name": "stdout",
     "text": [
      "['DIAMONDS']\n['CLUBS']\n['UNE_UFE']\n"
     ]
    }
   ],
   "source": [
    "# Check if model works well and how it responds\n",
    "\n",
    "#           Diamonds     Rest           Forehand  D J&9    Rest J&9      D A&K&Q  Rest AKQ\n",
    "pred_data = [True] * 9 + [False] * 27 + [False] #+ [True] + [False] * 3 + [True] + [False] * 3\n",
    "print(model.predict([pred_data])) # Should choose DIAMONDS\n",
    "\n",
    "#           Rest           Clubs        Forehand  Rest J&9      C J&9    Rest A&K&Q    C AKQ\n",
    "pred_data = [False] * 27 + [True] * 9 + [False] #+ [False] * 3 + [True] + [False] * 3 + [True]\n",
    "print(model.predict([pred_data])) # Should choose CLUBS\n",
    "\n",
    "#           D 9-A         D 6-8        H 8-A         H 6&7        S 8-A         S 6&7        C 8-A         C 6&7        Forehand  J&9           AKQ\n",
    "pred_data = [False] * 6 + [True] * 3 + [False] * 7 + [True] * 2 + [False] * 7 + [True] * 2 + [False] * 7 + [True] * 2 + [False] #+ [False] * 4 + [False] * 4\n",
    "print(model.predict([pred_data])) # Should choose UNE_UFE"
   ]
  },
  {
   "cell_type": "code",
   "execution_count": null,
   "metadata": {},
   "outputs": [],
   "source": []
  }
 ]
}